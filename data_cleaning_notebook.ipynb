{
 "cells": [
  {
   "cell_type": "markdown",
   "id": "d2f41fca",
   "metadata": {},
   "source": [
    "# Patient Data Cleaning & Preparation\n",
    "\n",
    "This notebook performs data cleaning and preparation steps on a healthcare patient dataset to address various data quality issues."
   ]
  },
  {
   "cell_type": "markdown",
   "id": "a552b32e",
   "metadata": {},
   "source": [
    "## Step 0: Import Required Libraries and Load Data"
   ]
  },
  {
   "cell_type": "code",
   "execution_count": null,
   "id": "2581c5db",
   "metadata": {},
   "outputs": [],
   "source": [
    "# Import necessary libraries\n",
    "import pandas as pd\n",
    "import numpy as np\n",
    "import re\n",
    "import matplotlib.pyplot as plt\n",
    "import seaborn as sns\n",
    "from datetime import datetime\n",
    "\n",
    "# Set display options\n",
    "pd.set_option('display.max_columns', None)\n",
    "pd.set_option('display.width', 1000)\n",
    "\n",
    "# Load the dataset\n",
    "df = pd.read_csv('patients.csv')\n",
    "\n",
    "# Display initial data\n",
    "print(f\"Dataset shape: {df.shape}\")\n",
    "df.head()"
   ]
  },
  {
   "cell_type": "code",
   "execution_count": null,
   "id": "adbd740f",
   "metadata": {},
   "outputs": [],
   "source": [
    "# Check the data types and missing values\n",
    "print(\"Data types:\")\n",
    "print(df.dtypes)\n",
    "print(\"\\nMissing values:\")\n",
    "print(df.isna().sum())"
   ]
  },
  {
   "cell_type": "markdown",
   "id": "1812d2b2",
   "metadata": {},
   "source": [
    "## Step 1: Standardizing Date Formats\n",
    "\n",
    "Convert admission_date and discharge_date columns from inconsistent formats (MM/DD/YYYY, DD-MM-YYYY, etc.) to a consistent YYYY-MM-DD format."
   ]
  },
  {
   "cell_type": "code",
   "execution_count": null,
   "id": "4e567c1c",
   "metadata": {},
   "outputs": [],
   "source": [
    "def standardize_date(date_str):\n",
    "    \"\"\"Converts dates from various formats to YYYY-MM-DD\"\"\"\n",
    "    if pd.isna(date_str):\n",
    "        return pd.NaT\n",
    "        \n",
    "    # Remove any whitespace\n",
    "    date_str = date_str.strip()\n",
    "    \n",
    "    # Try different format patterns\n",
    "    date_formats = ['%m/%d/%Y', '%d-%m-%Y', '%Y/%m/%d', '%m-%d-%Y']\n",
    "    \n",
    "    for fmt in date_formats:\n",
    "        try:\n",
    "            parsed_date = datetime.strptime(date_str, fmt)\n",
    "            return parsed_date.strftime('%Y-%m-%d')\n",
    "        except ValueError:\n",
    "            continue\n",
    "    \n",
    "    return pd.NaT  # If no format matches\n",
    "\n",
    "# Apply the function to both date columns\n",
    "df['admission_date'] = df['admission_date'].apply(standardize_date)\n",
    "df['discharge_date'] = df['discharge_date'].apply(standardize_date)\n",
    "\n",
    "# Display the standardized dates\n",
    "print(\"Standardized Date Formats:\")\n",
    "df[['admission_date', 'discharge_date']].head()"
   ]
  },
  {
   "cell_type": "markdown",
   "id": "79f06d1b",
   "metadata": {},
   "source": [
    "## Step 2: Handling Missing Values\n",
    "\n",
    "- Fill missing age values with the median age\n",
    "- Handle missing gender values by marking them as 'Unknown'\n",
    "- Replace missing bill_amount values with 0"
   ]
  },
  {
   "cell_type": "code",
   "execution_count": null,
   "id": "6e85f9f9",
   "metadata": {},
   "outputs": [],
   "source": [
    "# Handle missing age values\n",
    "median_age = df['age'].median()\n",
    "df['age'] = df['age'].fillna(median_age)\n",
    "print(f\"Filled {df['age'].isna().sum()} missing age values with median age: {median_age}\")\n",
    "\n",
    "# Handle missing gender values\n",
    "df['gender'] = df['gender'].fillna('Unknown')\n",
    "print(f\"Filled missing gender values with 'Unknown'\")\n",
    "\n",
    "# Handle missing bill_amount values\n",
    "df['bill_amount'] = df['bill_amount'].fillna(0)\n",
    "print(f\"Filled missing bill_amount values with 0\")\n",
    "\n",
    "# Check remaining missing values\n",
    "print(\"\\nRemaining missing values:\")\n",
    "print(df.isna().sum())"
   ]
  },
  {
   "cell_type": "markdown",
   "id": "d9dc8984",
   "metadata": {},
   "source": [
    "## Step 3: Standardizing Contact Numbers\n",
    "\n",
    "Normalize contact number formats to a standard XXX-XXX-XXXX format"
   ]
  },
  {
   "cell_type": "code",
   "execution_count": null,
   "id": "5d0ded55",
   "metadata": {},
   "outputs": [],
   "source": [
    "def standardize_phone_number(phone_str):\n",
    "    \"\"\"Standardize phone numbers to XXX-XXX-XXXX format\"\"\"\n",
    "    if pd.isna(phone_str):\n",
    "        return phone_str\n",
    "        \n",
    "    # Extract digits only\n",
    "    digits = re.sub(r'\\D', '', str(phone_str))\n",
    "    \n",
    "    # Check if we have the expected 10 digits\n",
    "    if len(digits) == 10:\n",
    "        return f\"{digits[:3]}-{digits[3:6]}-{digits[6:]}\"\n",
    "    else:\n",
    "        # Return original if format cannot be determined\n",
    "        return phone_str\n",
    "\n",
    "# Apply the function to standardize contact numbers\n",
    "df['contact_number'] = df['contact_number'].apply(standardize_phone_number)\n",
    "\n",
    "# Display standardized contact numbers\n",
    "print(\"Standardized Contact Numbers:\")\n",
    "df[['patient_id', 'name', 'contact_number']].head()"
   ]
  },
  {
   "cell_type": "markdown",
   "id": "3723110f",
   "metadata": {},
   "source": [
    "## Step 4: Handling Categorical Data\n",
    "\n",
    "Convert insurance_status from 'Yes'/'No' to binary values (1/0)"
   ]
  },
  {
   "cell_type": "code",
   "execution_count": null,
   "id": "b43f0faf",
   "metadata": {},
   "outputs": [],
   "source": [
    "# Convert insurance_status to binary (1 for Yes, 0 for No)\n",
    "df['insurance_status_binary'] = df['insurance_status'].map({'Yes': 1, 'No': 0})\n",
    "\n",
    "# Keep the original column as well\n",
    "print(\"Converted Insurance Status to Binary Values:\")\n",
    "df[['patient_id', 'insurance_status', 'insurance_status_binary']].head()"
   ]
  },
  {
   "cell_type": "markdown",
   "id": "560fe39b",
   "metadata": {},
   "source": [
    "## Step 5: Removing Duplicates\n",
    "\n",
    "Identify and remove duplicate patient records"
   ]
  },
  {
   "cell_type": "code",
   "execution_count": null,
   "id": "942c9de9",
   "metadata": {},
   "outputs": [],
   "source": [
    "# Check for duplicate records\n",
    "duplicate_count = df.duplicated().sum()\n",
    "print(f\"Found {duplicate_count} duplicate records\")\n",
    "\n",
    "# Check for potential duplicates based on patient_id\n",
    "id_duplicate_count = df.duplicated(subset=['patient_id']).sum()\n",
    "print(f\"Found {id_duplicate_count} duplicate patient IDs\")\n",
    "\n",
    "# Remove duplicates if any\n",
    "df_clean = df.drop_duplicates()\n",
    "print(f\"Original data shape: {df.shape}\")\n",
    "print(f\"After removing duplicates: {df_clean.shape}\")"
   ]
  },
  {
   "cell_type": "markdown",
   "id": "540d47f9",
   "metadata": {},
   "source": [
    "## Summary of Data Cleaning\n",
    "\n",
    "Let's review the transformations performed on the dataset:"
   ]
  },
  {
   "cell_type": "code",
   "execution_count": null,
   "id": "c1a61b7d",
   "metadata": {},
   "outputs": [],
   "source": [
    "# Display summary statistics of the cleaned data\n",
    "print(\"Summary statistics of cleaned data:\")\n",
    "df_clean.describe(include='all').T"
   ]
  },
  {
   "cell_type": "code",
   "execution_count": null,
   "id": "9b3dc391",
   "metadata": {},
   "outputs": [],
   "source": [
    "# Save the cleaned dataset\n",
    "df_clean.to_csv('patients_cleaned.csv', index=False)\n",
    "print(\"Cleaned data saved to 'patients_cleaned.csv'\")"
   ]
  },
  {
   "cell_type": "markdown",
   "id": "47154a79",
   "metadata": {},
   "source": [
    "## Visualization of Cleaned Data"
   ]
  },
  {
   "cell_type": "code",
   "execution_count": null,
   "id": "95a43b35",
   "metadata": {},
   "outputs": [],
   "source": [
    "# Plot distribution of ages\n",
    "plt.figure(figsize=(10, 6))\n",
    "sns.histplot(df_clean['age'], bins=10, kde=True)\n",
    "plt.title('Distribution of Patient Ages')\n",
    "plt.xlabel('Age')\n",
    "plt.ylabel('Count')\n",
    "plt.grid(True, linestyle='--', alpha=0.7)\n",
    "plt.show()"
   ]
  },
  {
   "cell_type": "code",
   "execution_count": null,
   "id": "e6db0a48",
   "metadata": {},
   "outputs": [],
   "source": [
    "# Distribution of diagnoses\n",
    "plt.figure(figsize=(12, 6))\n",
    "diagnosis_counts = df_clean['diagnosis'].value_counts()\n",
    "sns.barplot(x=diagnosis_counts.index, y=diagnosis_counts.values)\n",
    "plt.title('Distribution of Diagnoses')\n",
    "plt.xlabel('Diagnosis')\n",
    "plt.ylabel('Count')\n",
    "plt.xticks(rotation=45)\n",
    "plt.grid(True, linestyle='--', alpha=0.7)\n",
    "plt.tight_layout()\n",
    "plt.show()"
   ]
  },
  {
   "cell_type": "code",
   "execution_count": null,
   "id": "1db8b6fa",
   "metadata": {},
   "outputs": [],
   "source": [
    "# Relationship between bill amount and insurance status\n",
    "plt.figure(figsize=(10, 6))\n",
    "sns.boxplot(x='insurance_status', y='bill_amount', data=df_clean)\n",
    "plt.title('Bill Amount by Insurance Status')\n",
    "plt.xlabel('Insurance Status')\n",
    "plt.ylabel('Bill Amount ($)')\n",
    "plt.grid(True, linestyle='--', alpha=0.7)\n",
    "plt.show()"
   ]
  }
 ],
 "metadata": {
  "language_info": {
   "name": "python"
  }
 },
 "nbformat": 4,
 "nbformat_minor": 5
}
